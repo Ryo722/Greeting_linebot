{
 "cells": [
  {
   "cell_type": "code",
   "execution_count": 1,
   "source": [
    "!pip install line-bot-sdk"
   ],
   "outputs": [
    {
     "output_type": "stream",
     "name": "stdout",
     "text": [
      "Collecting line-bot-sdk\n",
      "  Downloading line_bot_sdk-1.19.0-py2.py3-none-any.whl (68 kB)\n",
      "\u001b[K     |████████████████████████████████| 68 kB 5.4 MB/s eta 0:00:011\n",
      "\u001b[?25hRequirement already satisfied: future in /Users/ryo/opt/anaconda3/lib/python3.8/site-packages (from line-bot-sdk) (0.18.2)\n",
      "Requirement already satisfied: requests>=2.0 in /Users/ryo/opt/anaconda3/lib/python3.8/site-packages (from line-bot-sdk) (2.25.1)\n",
      "Requirement already satisfied: urllib3<1.27,>=1.21.1 in /Users/ryo/opt/anaconda3/lib/python3.8/site-packages (from requests>=2.0->line-bot-sdk) (1.26.6)\n",
      "Requirement already satisfied: idna<3,>=2.5 in /Users/ryo/opt/anaconda3/lib/python3.8/site-packages (from requests>=2.0->line-bot-sdk) (2.10)\n",
      "Requirement already satisfied: certifi>=2017.4.17 in /Users/ryo/opt/anaconda3/lib/python3.8/site-packages (from requests>=2.0->line-bot-sdk) (2021.5.30)\n",
      "Requirement already satisfied: chardet<5,>=3.0.2 in /Users/ryo/opt/anaconda3/lib/python3.8/site-packages (from requests>=2.0->line-bot-sdk) (4.0.0)\n",
      "Installing collected packages: line-bot-sdk\n",
      "Successfully installed line-bot-sdk-1.19.0\n"
     ]
    }
   ],
   "metadata": {
    "scrolled": true
   }
  },
  {
   "cell_type": "code",
   "execution_count": 2,
   "source": [
    "import json"
   ],
   "outputs": [],
   "metadata": {}
  },
  {
   "cell_type": "code",
   "execution_count": 3,
   "source": [
    "file = open('info.json', 'r')\n",
    "info = json.load(file)"
   ],
   "outputs": [],
   "metadata": {}
  },
  {
   "cell_type": "code",
   "execution_count": 5,
   "source": [
    "info['CHANNEL_ACCESS_TOKEN']"
   ],
   "outputs": [
    {
     "output_type": "execute_result",
     "data": {
      "text/plain": [
       "'2z4Xd9CB8PvvlDTpZk5moyuvGqi1R/08p+NhyJSl3BRaAXe2Oz9pkCquvWOk4kMEKqA4Nb0xzYJxYCtP3RbaBWDFwMdULh58nV6w0NVZuYm3u8Pdcow1ybuAcBO1S6NwUtfJIteMa7ELzFA63TMZnQdB04t89/1O/w1cDnyilFU='"
      ]
     },
     "metadata": {},
     "execution_count": 5
    }
   ],
   "metadata": {}
  },
  {
   "cell_type": "code",
   "execution_count": 6,
   "source": [
    "from linebot import LineBotApi\n",
    "from linebot.models import TextSendMessage"
   ],
   "outputs": [],
   "metadata": {}
  },
  {
   "cell_type": "code",
   "execution_count": null,
   "source": [
    "CHANNEL_ACCESS_TOKEN = info['CHANNEL_ACCESS_TOKEN']\n",
    "line_bot_api = LineBotApi(CHANNEL_ACCESS_TOKEN)"
   ],
   "outputs": [],
   "metadata": {}
  },
  {
   "cell_type": "code",
   "execution_count": null,
   "source": [
    "def main():\n",
    "    USER_ID = info['USER_ID']\n",
    "    messages = TextSendMessage(text=\"おはよう！\\n今日も頑張ろう！\")\n",
    "    line_bot_api.push_message(USER_ID, messages=messages)\n",
    "\n",
    "if __name__ == \"__main__\":\n",
    "    main()"
   ],
   "outputs": [],
   "metadata": {}
  }
 ],
 "metadata": {
  "kernelspec": {
   "display_name": "Python 3",
   "language": "python",
   "name": "python3"
  },
  "language_info": {
   "codemirror_mode": {
    "name": "ipython",
    "version": 3
   },
   "file_extension": ".py",
   "mimetype": "text/x-python",
   "name": "python",
   "nbconvert_exporter": "python",
   "pygments_lexer": "ipython3",
   "version": "3.8.5"
  }
 },
 "nbformat": 4,
 "nbformat_minor": 5
}