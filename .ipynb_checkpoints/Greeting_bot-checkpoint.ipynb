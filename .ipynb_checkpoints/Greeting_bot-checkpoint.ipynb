{
 "cells": [
  {
   "cell_type": "code",
   "execution_count": 1,
   "id": "04e923ac",
   "metadata": {
    "scrolled": true
   },
   "outputs": [
    {
     "name": "stdout",
     "output_type": "stream",
     "text": [
      "Collecting line-bot-sdk\n",
      "  Downloading line_bot_sdk-1.19.0-py2.py3-none-any.whl (68 kB)\n",
      "\u001b[K     |████████████████████████████████| 68 kB 5.4 MB/s eta 0:00:011\n",
      "\u001b[?25hRequirement already satisfied: future in /Users/ryo/opt/anaconda3/lib/python3.8/site-packages (from line-bot-sdk) (0.18.2)\n",
      "Requirement already satisfied: requests>=2.0 in /Users/ryo/opt/anaconda3/lib/python3.8/site-packages (from line-bot-sdk) (2.25.1)\n",
      "Requirement already satisfied: urllib3<1.27,>=1.21.1 in /Users/ryo/opt/anaconda3/lib/python3.8/site-packages (from requests>=2.0->line-bot-sdk) (1.26.6)\n",
      "Requirement already satisfied: idna<3,>=2.5 in /Users/ryo/opt/anaconda3/lib/python3.8/site-packages (from requests>=2.0->line-bot-sdk) (2.10)\n",
      "Requirement already satisfied: certifi>=2017.4.17 in /Users/ryo/opt/anaconda3/lib/python3.8/site-packages (from requests>=2.0->line-bot-sdk) (2021.5.30)\n",
      "Requirement already satisfied: chardet<5,>=3.0.2 in /Users/ryo/opt/anaconda3/lib/python3.8/site-packages (from requests>=2.0->line-bot-sdk) (4.0.0)\n",
      "Installing collected packages: line-bot-sdk\n",
      "Successfully installed line-bot-sdk-1.19.0\n"
     ]
    }
   ],
   "source": [
    "!pip install line-bot-sdk"
   ]
  },
  {
   "cell_type": "code",
   "execution_count": 2,
   "id": "ff147f33",
   "metadata": {},
   "outputs": [],
   "source": [
    "import json"
   ]
  },
  {
   "cell_type": "code",
   "execution_count": 3,
   "id": "fff6a3f4",
   "metadata": {},
   "outputs": [],
   "source": [
    "file = open('info.json', 'r')\n",
    "info = json.load(file)"
   ]
  },
  {
   "cell_type": "code",
   "execution_count": 5,
   "id": "938ac07d",
   "metadata": {},
   "outputs": [
    {
     "data": {
      "text/plain": [
       "'2z4Xd9CB8PvvlDTpZk5moyuvGqi1R/08p+NhyJSl3BRaAXe2Oz9pkCquvWOk4kMEKqA4Nb0xzYJxYCtP3RbaBWDFwMdULh58nV6w0NVZuYm3u8Pdcow1ybuAcBO1S6NwUtfJIteMa7ELzFA63TMZnQdB04t89/1O/w1cDnyilFU='"
      ]
     },
     "execution_count": 5,
     "metadata": {},
     "output_type": "execute_result"
    }
   ],
   "source": [
    "info['CHANNEL_ACCESS_TOKEN']"
   ]
  },
  {
   "cell_type": "code",
   "execution_count": 6,
   "id": "b8551c03",
   "metadata": {},
   "outputs": [],
   "source": [
    "from linebot import LineBotApi\n",
    "from linebot.models import TextSendMessage"
   ]
  },
  {
   "cell_type": "code",
   "execution_count": null,
   "id": "a429d161",
   "metadata": {},
   "outputs": [],
   "source": [
    "CHANNEL_ACCESS_TOKEN = info['CHANNEL_ACCESS_TOKEN']\n",
    "line_bot_api = LineBotApi(CHANNEL_ACCESS_TOKEN)"
   ]
  }
 ],
 "metadata": {
  "kernelspec": {
   "display_name": "Python 3",
   "language": "python",
   "name": "python3"
  },
  "language_info": {
   "codemirror_mode": {
    "name": "ipython",
    "version": 3
   },
   "file_extension": ".py",
   "mimetype": "text/x-python",
   "name": "python",
   "nbconvert_exporter": "python",
   "pygments_lexer": "ipython3",
   "version": "3.8.5"
  }
 },
 "nbformat": 4,
 "nbformat_minor": 5
}
